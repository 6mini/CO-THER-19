{
  "nbformat": 4,
  "nbformat_minor": 2,
  "metadata": {
    "colab": {
      "name": "regression-model.ipynb",
      "provenance": [],
      "collapsed_sections": []
    },
    "kernelspec": {
      "name": "python3",
      "display_name": "Python 3"
    },
    "language_info": {
      "name": "python"
    }
  },
  "cells": [
    {
      "cell_type": "code",
      "execution_count": null,
      "source": [
        "from sklearn.metrics import mean_squared_error, r2_score\n",
        "from sklearn.model_selection import train_test_split\n",
        "from sklearn.linear_model import LinearRegression\n",
        "from sklearn.preprocessing import OneHotEncoder\n",
        "import lightgbm as lgb\n",
        "import seaborn as sns\n",
        "import pandas as pd\n",
        "import numpy as np\n",
        "import joblib"
      ],
      "outputs": [],
      "metadata": {
        "id": "TlComuH1i5uZ"
      }
    },
    {
      "cell_type": "markdown",
      "source": [
        "- avgRhm: 습도\n",
        "- ddMes: 적설량\n",
        "- sumSsHr: 일조시간\n",
        "- avgPs: 해면기압\n",
        "- avgTca: 전운량\n",
        "- minTa: 최저기온\n",
        "- maxTa: 최고기온\n",
        "- avgWs: 풍속\n",
        "- sumRn: 강수량\n",
        "- avgTa: 평균기온\n",
        "- avgTd: 평균 이슬점온도\n"
      ],
      "metadata": {
        "id": "45C6IjNk-gzG"
      }
    },
    {
      "cell_type": "code",
      "execution_count": null,
      "source": [
        "weather = pd.read_csv('weather.csv', names=['date', 'avgTa', 'minTa', 'minTaHrmt', 'maxTa', 'maxTaHrmt', 'mi10MaxRn', 'mi10MaxRnHrmt', 'hr1MaxRn', 'hr1MaxRnHrmt', 'sumRnDur', 'sumRn', 'maxInsWs', 'maxInsWsWd', 'maxInsWsHrmt', 'maxWs', 'maxWsWd', 'maxWsHrmt', 'avgWs', 'hr24SumRws', 'maxWd', 'avgTd', 'minRhm', 'minRhmHrmt', 'avgRhm', 'avgPv', 'avgPa', 'maxPs', 'maxPsHrmt', 'minPs', 'minPsHrmt', 'avgPs', 'ssDur', 'sumSsHr', 'hr1MaxIcsrHrmt', 'hr1MaxIcsr', 'sumGsr', 'ddMefs', 'ddMefsHrmt', 'ddMes', 'ddMesHrmt', 'sumDpthFhsc', 'avgTca', 'avgLmac', 'avgTs', 'minTg', 'avgCm5Te', 'avgCm10Te', 'avgCm20Te', 'avgCm30Te', 'avgM05Te', 'avgM10Te', 'avgM15Te', 'avgM30Te', 'avgM50Te', 'sumLrgEv', 'sumSmlEv', 'n99Rn', 'iscs', 'sumFogDur'])\n",
        "# weather = weather.drop(['iscs'], axis = 1)\n",
        "weather.set_index('date', inplace=True)\n",
        "weather = weather[['avgRhm', 'ddMes', 'sumSsHr', 'avgPs', 'avgTca', 'avgTd', 'minTa', 'maxTa', 'avgWs', 'sumRn', 'avgTa']]\n",
        "weather.head(1)"
      ],
      "outputs": [
        {
          "output_type": "execute_result",
          "data": {
            "text/html": [
              "<div>\n",
              "<style scoped>\n",
              "    .dataframe tbody tr th:only-of-type {\n",
              "        vertical-align: middle;\n",
              "    }\n",
              "\n",
              "    .dataframe tbody tr th {\n",
              "        vertical-align: top;\n",
              "    }\n",
              "\n",
              "    .dataframe thead th {\n",
              "        text-align: right;\n",
              "    }\n",
              "</style>\n",
              "<table border=\"1\" class=\"dataframe\">\n",
              "  <thead>\n",
              "    <tr style=\"text-align: right;\">\n",
              "      <th></th>\n",
              "      <th>avgRhm</th>\n",
              "      <th>ddMes</th>\n",
              "      <th>sumSsHr</th>\n",
              "      <th>avgPs</th>\n",
              "      <th>avgTca</th>\n",
              "      <th>avgTd</th>\n",
              "      <th>minTa</th>\n",
              "      <th>maxTa</th>\n",
              "      <th>avgWs</th>\n",
              "      <th>sumRn</th>\n",
              "      <th>avgTa</th>\n",
              "    </tr>\n",
              "    <tr>\n",
              "      <th>date</th>\n",
              "      <th></th>\n",
              "      <th></th>\n",
              "      <th></th>\n",
              "      <th></th>\n",
              "      <th></th>\n",
              "      <th></th>\n",
              "      <th></th>\n",
              "      <th></th>\n",
              "      <th></th>\n",
              "      <th></th>\n",
              "      <th></th>\n",
              "    </tr>\n",
              "  </thead>\n",
              "  <tbody>\n",
              "    <tr>\n",
              "      <th>2020-10-05</th>\n",
              "      <td>57.3</td>\n",
              "      <td>0.0</td>\n",
              "      <td>10.5</td>\n",
              "      <td>1018.2</td>\n",
              "      <td>2.3</td>\n",
              "      <td>4.8</td>\n",
              "      <td>8.5</td>\n",
              "      <td>18.4</td>\n",
              "      <td>2.5</td>\n",
              "      <td>0.0</td>\n",
              "      <td>13.3</td>\n",
              "    </tr>\n",
              "  </tbody>\n",
              "</table>\n",
              "</div>"
            ],
            "text/plain": [
              "            avgRhm  ddMes  sumSsHr   avgPs  ...  maxTa  avgWs  sumRn  avgTa\n",
              "date                                        ...                            \n",
              "2020-10-05    57.3    0.0     10.5  1018.2  ...   18.4    2.5    0.0   13.3\n",
              "\n",
              "[1 rows x 11 columns]"
            ]
          },
          "metadata": {},
          "execution_count": 3
        }
      ],
      "metadata": {
        "colab": {
          "base_uri": "https://localhost:8080/",
          "height": 112
        },
        "id": "8xqRcFx7i0tY",
        "outputId": "4d365823-4441-40ec-de7f-917d56e5bc95"
      }
    },
    {
      "cell_type": "code",
      "execution_count": null,
      "source": [
        "confirmed = pd.read_csv('covid-confirmed-in-seoul.csv', names=['date', 'confirmed'])\n",
        "confirmed.set_index('date', inplace=True)\n",
        "confirmed.head(1)"
      ],
      "outputs": [
        {
          "output_type": "execute_result",
          "data": {
            "text/html": [
              "<div>\n",
              "<style scoped>\n",
              "    .dataframe tbody tr th:only-of-type {\n",
              "        vertical-align: middle;\n",
              "    }\n",
              "\n",
              "    .dataframe tbody tr th {\n",
              "        vertical-align: top;\n",
              "    }\n",
              "\n",
              "    .dataframe thead th {\n",
              "        text-align: right;\n",
              "    }\n",
              "</style>\n",
              "<table border=\"1\" class=\"dataframe\">\n",
              "  <thead>\n",
              "    <tr style=\"text-align: right;\">\n",
              "      <th></th>\n",
              "      <th>confirmed</th>\n",
              "    </tr>\n",
              "    <tr>\n",
              "      <th>date</th>\n",
              "      <th></th>\n",
              "    </tr>\n",
              "  </thead>\n",
              "  <tbody>\n",
              "    <tr>\n",
              "      <th>2021-10-05</th>\n",
              "      <td>521</td>\n",
              "    </tr>\n",
              "  </tbody>\n",
              "</table>\n",
              "</div>"
            ],
            "text/plain": [
              "            confirmed\n",
              "date                 \n",
              "2021-10-05        521"
            ]
          },
          "metadata": {},
          "execution_count": 4
        }
      ],
      "metadata": {
        "colab": {
          "base_uri": "https://localhost:8080/",
          "height": 112
        },
        "id": "vU1mnmY0jeKu",
        "outputId": "d81873d9-989b-44b3-e5b3-7c6961a7c397"
      }
    },
    {
      "cell_type": "code",
      "execution_count": null,
      "source": [
        "df = pd.merge(weather, confirmed, how='inner', on='date')\n",
        "train, test= train_test_split(df, random_state=42)\n",
        "train.shape, test.shape"
      ],
      "outputs": [
        {
          "output_type": "execute_result",
          "data": {
            "text/plain": [
              "((275, 12), (92, 12))"
            ]
          },
          "metadata": {},
          "execution_count": 5
        }
      ],
      "metadata": {
        "colab": {
          "base_uri": "https://localhost:8080/"
        },
        "id": "RIFQhHzOv7df",
        "outputId": "c3e677ea-f25c-4e3f-849c-c35ebdad2127"
      }
    },
    {
      "cell_type": "code",
      "execution_count": null,
      "source": [
        "target = 'confirmed' \n",
        "features = df.columns.drop('confirmed')\n",
        "\n",
        "X_train = train[features]\n",
        "y_train = train[target]\n",
        "X_test = test[features]\n",
        "y_test = test[target]"
      ],
      "outputs": [],
      "metadata": {
        "id": "-Io6vBVJ0FtF"
      }
    },
    {
      "cell_type": "code",
      "execution_count": null,
      "source": [
        "train_ds = lgb.Dataset(X_train, label = y_train) \n",
        "test_ds = lgb.Dataset(X_test, label = y_test)"
      ],
      "outputs": [],
      "metadata": {
        "id": "VNnxxoSQ0ZD9"
      }
    },
    {
      "cell_type": "code",
      "execution_count": null,
      "source": [
        "params = {'learning_rate': 0.01, \n",
        "          'max_depth': 10,\n",
        "          'objective': 'regression', \n",
        "          'metric': 'mse', \n",
        "          'is_training_metric': True, \n",
        "          'num_leaves': 144, \n",
        "          'feature_fraction': 0.9, \n",
        "          'bagging_fraction': 0.7, \n",
        "          'bagging_freq': 5, \n",
        "          'seed':2018}"
      ],
      "outputs": [],
      "metadata": {
        "id": "76oXvHm30m5g"
      }
    },
    {
      "cell_type": "code",
      "execution_count": null,
      "source": [
        "model = lgb.train(params, train_ds, 1000, test_ds, verbose_eval=100, early_stopping_rounds=100)"
      ],
      "outputs": [
        {
          "output_type": "stream",
          "name": "stdout",
          "text": [
            "Training until validation scores don't improve for 100 rounds.\n",
            "[100]\tvalid_0's l2: 31347.2\n",
            "[200]\tvalid_0's l2: 27725.6\n",
            "[300]\tvalid_0's l2: 26771\n",
            "[400]\tvalid_0's l2: 26554.9\n",
            "[500]\tvalid_0's l2: 26491.7\n",
            "[600]\tvalid_0's l2: 25947.4\n",
            "[700]\tvalid_0's l2: 25973.2\n",
            "Early stopping, best iteration is:\n",
            "[620]\tvalid_0's l2: 25752\n"
          ]
        }
      ],
      "metadata": {
        "colab": {
          "base_uri": "https://localhost:8080/"
        },
        "id": "US7a5yZ50qz1",
        "outputId": "d09838b1-38e8-43b0-f2df-fb1dc2949e70"
      }
    },
    {
      "cell_type": "code",
      "execution_count": null,
      "source": [
        "predict_train = model.predict(X_train)\n",
        "predict_test = model.predict(X_test)"
      ],
      "outputs": [],
      "metadata": {
        "id": "ewSne95U0xHm"
      }
    },
    {
      "cell_type": "code",
      "execution_count": null,
      "source": [
        "mse = mean_squared_error(y_test, predict_test)\n",
        "r2 = r2_score(y_test, predict_test)\n",
        "print('Mean squared error: ', mse)\n",
        "print('R2 score: ', r2)"
      ],
      "outputs": [
        {
          "output_type": "stream",
          "name": "stdout",
          "text": [
            "Mean squared error:  25752.024720112582\n",
            "R2 score:  0.5061622922193673\n"
          ]
        }
      ],
      "metadata": {
        "colab": {
          "base_uri": "https://localhost:8080/"
        },
        "id": "N4AaeSmB1Rc2",
        "outputId": "206a221f-da37-44a9-d858-9b4f4874bd69"
      }
    },
    {
      "cell_type": "code",
      "execution_count": null,
      "source": [
        "final_result = pd.concat([y_test.reset_index(drop=True), pd.DataFrame(predict_test)], axis = 1)\n",
        "final_result.columns = ['label','predict']\n",
        "sns.regplot(x = 'label', y = 'predict', data = final_result);"
      ],
      "outputs": [
        {
          "output_type": "display_data",
          "data": {
            "image/png": "[encoded data removed]",
            "text/plain": [
              "<Figure size 432x288 with 1 Axes>"
            ]
          },
          "metadata": {
            "needs_background": "light"
          }
        }
      ],
      "metadata": {
        "colab": {
          "base_uri": "https://localhost:8080/",
          "height": 279
        },
        "id": "Z2oSw9wM1cU9",
        "outputId": "414099be-1ef8-468a-86e9-0e5b21f6f6ea"
      }
    },
    {
      "cell_type": "code",
      "execution_count": null,
      "source": [
        "# pip install shap"
      ],
      "outputs": [],
      "metadata": {
        "id": "Z37UKpt44NB_"
      }
    },
    {
      "cell_type": "code",
      "execution_count": null,
      "source": [
        "import shap\n",
        "\n",
        "explainer = shap.TreeExplainer(model)\n",
        "\n",
        "shap_values = explainer.shap_values(X_test)\n",
        "shap.summary_plot(shap_values, X_test)"
      ],
      "outputs": [
        {
          "output_type": "display_data",
          "data": {
            "image/png": "[encoded data removed]",
            "text/plain": [
              "<Figure size 576x424.8 with 2 Axes>"
            ]
          },
          "metadata": {
            "needs_background": "light"
          }
        }
      ],
      "metadata": {
        "colab": {
          "base_uri": "https://localhost:8080/",
          "height": 390
        },
        "id": "XmWh6sjC38EE",
        "outputId": "ea098ebb-3ad3-4980-c352-c08f0cb3b53b"
      }
    },
    {
      "cell_type": "code",
      "execution_count": null,
      "source": [
        "from sklearn.externals import joblib\n",
        " \n",
        "# save model\n",
        "joblib.dump(model, 'lgb.pkl')\n",
        " \n",
        "# load model\n",
        "load_model = joblib.load('lgb.pkl')\n",
        "load_model"
      ],
      "outputs": [
        {
          "output_type": "execute_result",
          "data": {
            "text/plain": [
              "<lightgbm.basic.Booster at 0x7fe75b464c90>"
            ]
          },
          "metadata": {},
          "execution_count": 23
        }
      ],
      "metadata": {
        "colab": {
          "base_uri": "https://localhost:8080/"
        },
        "id": "FVfu7s8kneal",
        "outputId": "5feb7658-a9e3-410b-ac61-802ef7a2cae0"
      }
    }
  ]
}